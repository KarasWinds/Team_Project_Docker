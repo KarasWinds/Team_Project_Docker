{
 "cells": [
  {
   "cell_type": "code",
   "execution_count": null,
   "metadata": {},
   "outputs": [],
   "source": [
    "# install packages\n",
    "!pip install python-dotenv requests"
   ]
  },
  {
   "cell_type": "code",
   "execution_count": 1,
   "metadata": {},
   "outputs": [],
   "source": [
    "# import liff api\n",
    "from liff_api import *"
   ]
  },
  {
   "cell_type": "code",
   "execution_count": null,
   "metadata": {},
   "outputs": [],
   "source": [
    "'''\n",
    "# initiate\n",
    "liff_init(channel_access_token)\n",
    "\n",
    "# list all Liff\n",
    "liff_list()\n",
    "\n",
    "# add a new Liff\n",
    "liff_add(url, type['full', 'tall', 'compact'])\n",
    "\n",
    "# delete a Liff by LiffID\n",
    "liff_delete(liffId)\n",
    "\n",
    "# update an existed Liff by json string\n",
    "liff_update(liff_information)\n",
    "'''"
   ]
  },
  {
   "cell_type": "code",
   "execution_count": 2,
   "metadata": {},
   "outputs": [],
   "source": [
    "# initiate\n",
    "liff_init(\"YGQ8o7Y8naocftGCq0M4XKSzF7XoSl4EyrsjUOqmxcYoGXndEELUdC5Q5RlJXyIoL8IRtN/3YaxjcXkZJMBSbqt82yGSJjD885hForRc7zBFpn6RE3EmPw2TNd7KRKrg+l0T9ZzHNGoxWuD1jh4BKwdB04t89/1O/w1cDnyilFU=\")"
   ]
  },
  {
   "cell_type": "code",
   "execution_count": 3,
   "metadata": {},
   "outputs": [
    {
     "data": {
      "text/plain": [
       "{'message': 'no apps'}"
      ]
     },
     "execution_count": 3,
     "metadata": {},
     "output_type": "execute_result"
    }
   ],
   "source": [
    "# list\n",
    "liff_list()"
   ]
  },
  {
   "cell_type": "code",
   "execution_count": 4,
   "metadata": {},
   "outputs": [],
   "source": [
    "# add new liff liff_add(url, type)\n",
    "# tall, full, compact\n",
    "url = \"https://google.com\"\n",
    "liff_added = liff_add(url, \"compact\")"
   ]
  },
  {
   "cell_type": "code",
   "execution_count": 5,
   "metadata": {},
   "outputs": [
    {
     "data": {
      "text/plain": [
       "{'apps': [{'liffId': '1640837947-kEwK2bYp',\n",
       "   'view': {'type': 'compact', 'url': 'https://google.com'}}]}"
      ]
     },
     "execution_count": 5,
     "metadata": {},
     "output_type": "execute_result"
    }
   ],
   "source": [
    "# list again\n",
    "liff_list()"
   ]
  },
  {
   "cell_type": "code",
   "execution_count": 6,
   "metadata": {},
   "outputs": [
    {
     "data": {
      "text/plain": [
       "'1640837947-kEwK2bYp'"
      ]
     },
     "execution_count": 6,
     "metadata": {},
     "output_type": "execute_result"
    }
   ],
   "source": [
    "# get liff id\n",
    "liff_added['liffId']"
   ]
  },
  {
   "cell_type": "code",
   "execution_count": 7,
   "metadata": {},
   "outputs": [
    {
     "data": {
      "text/plain": [
       "{'liffId': '1640837947-oNvzgkYq'}"
      ]
     },
     "execution_count": 7,
     "metadata": {},
     "output_type": "execute_result"
    }
   ],
   "source": [
    "# try adding more liff\n",
    "url = \"https://developers.line.biz/en/docs/messaging-api/line-bot-sdk/\"\n",
    "liff_add(url, \"tall\")\n",
    "url = \"https://developers.line.biz/en/docs/messaging-api/line-bot-sdk/\"\n",
    "liff_add(url, \"full\")\n",
    "url = \"https://developers.line.biz/en/docs/messaging-api/line-bot-sdk/\"\n",
    "liff_add(url, \"compact\")"
   ]
  },
  {
   "cell_type": "code",
   "execution_count": 8,
   "metadata": {},
   "outputs": [
    {
     "name": "stdout",
     "output_type": "stream",
     "text": [
      "1640837947-kEwK2bYp\n",
      "1640837947-kgz34AaW\n",
      "1640837947-oNvzgkYq\n",
      "1640837947-qy246Pdl\n"
     ]
    }
   ],
   "source": [
    "for i in liff_list()['apps']:\n",
    "    print(i['liffId'])"
   ]
  },
  {
   "cell_type": "code",
   "execution_count": 9,
   "metadata": {},
   "outputs": [
    {
     "data": {
      "text/plain": [
       "4"
      ]
     },
     "execution_count": 9,
     "metadata": {},
     "output_type": "execute_result"
    }
   ],
   "source": [
    "len(liff_list()['apps'])"
   ]
  },
  {
   "cell_type": "code",
   "execution_count": 10,
   "metadata": {},
   "outputs": [],
   "source": [
    "# delete\n",
    "try:\n",
    "    if len(liff_list()['apps']) >= 1:\n",
    "        for i in liff_list()['apps']:\n",
    "            liff_delete(i['liffId'])\n",
    "except:\n",
    "    print('Liffs have been all removed.')"
   ]
  },
  {
   "cell_type": "code",
   "execution_count": 11,
   "metadata": {},
   "outputs": [
    {
     "data": {
      "text/plain": [
       "{'message': 'no apps'}"
      ]
     },
     "execution_count": 11,
     "metadata": {},
     "output_type": "execute_result"
    }
   ],
   "source": [
    "liff_list()"
   ]
  },
  {
   "cell_type": "code",
   "execution_count": 12,
   "metadata": {},
   "outputs": [
    {
     "name": "stdout",
     "output_type": "stream",
     "text": [
      "Liffs have been all removed.\n"
     ]
    }
   ],
   "source": [
    "# delete again\n",
    "try:\n",
    "    if len(liff_list()['apps']) >= 1:\n",
    "        for i in liff_list()['apps']:\n",
    "            liff_delete(i['liffId'])\n",
    "except:\n",
    "    print('Liffs have been all removed.')"
   ]
  },
  {
   "cell_type": "code",
   "execution_count": null,
   "metadata": {},
   "outputs": [],
   "source": []
  }
 ],
 "metadata": {
  "kernelspec": {
   "display_name": "Python 3",
   "language": "python",
   "name": "python3"
  },
  "language_info": {
   "codemirror_mode": {
    "name": "ipython",
    "version": 3
   },
   "file_extension": ".py",
   "mimetype": "text/x-python",
   "name": "python",
   "nbconvert_exporter": "python",
   "pygments_lexer": "ipython3",
   "version": "3.7.2"
  }
 },
 "nbformat": 4,
 "nbformat_minor": 2
}
